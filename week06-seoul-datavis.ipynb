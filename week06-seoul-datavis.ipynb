{
 "cells": [
  {
   "attachments": {},
   "cell_type": "markdown",
   "metadata": {},
   "source": [
    "# 시스템 점검"
   ]
  },
  {
   "cell_type": "code",
   "execution_count": null,
   "metadata": {},
   "outputs": [
    {
     "name": "stdout",
     "output_type": "stream",
     "text": [
      "3.11.4 (tags/v3.11.4:d2340ef, Jun  7 2023, 05:45:37) [MSC v.1934 64 bit (AMD64)]\n",
      "['c:\\\\2023-A-DA', 'c:\\\\Users\\\\102\\\\AppData\\\\Local\\\\Programs\\\\Python\\\\Python311\\\\python311.zip', 'c:\\\\Users\\\\102\\\\AppData\\\\Local\\\\Programs\\\\Python\\\\Python311\\\\DLLs', 'c:\\\\Users\\\\102\\\\AppData\\\\Local\\\\Programs\\\\Python\\\\Python311\\\\Lib', 'c:\\\\Users\\\\102\\\\AppData\\\\Local\\\\Programs\\\\Python\\\\Python311', '', 'c:\\\\Users\\\\102\\\\AppData\\\\Local\\\\Programs\\\\Python\\\\Python311\\\\Lib\\\\site-packages', 'c:\\\\Users\\\\102\\\\AppData\\\\Local\\\\Programs\\\\Python\\\\Python311\\\\Lib\\\\site-packages\\\\win32', 'c:\\\\Users\\\\102\\\\AppData\\\\Local\\\\Programs\\\\Python\\\\Python311\\\\Lib\\\\site-packages\\\\win32\\\\lib', 'c:\\\\Users\\\\102\\\\AppData\\\\Local\\\\Programs\\\\Python\\\\Python311\\\\Lib\\\\site-packages\\\\Pythonwin']\n"
     ]
    }
   ],
   "source": [
    "import sys\n",
    "print(sys.version)\n",
    "print(sys.path)"
   ]
  },
  {
   "cell_type": "code",
   "execution_count": 3,
   "metadata": {},
   "outputs": [
    {
     "ename": "ModuleNotFoundError",
     "evalue": "No module named 'matplotlib'",
     "output_type": "error",
     "traceback": [
      "\u001b[1;31m---------------------------------------------------------------------------\u001b[0m",
      "\u001b[1;31mModuleNotFoundError\u001b[0m                       Traceback (most recent call last)",
      "Cell \u001b[1;32mIn[3], line 1\u001b[0m\n\u001b[1;32m----> 1\u001b[0m \u001b[39mimport\u001b[39;00m \u001b[39mmatplotlib\u001b[39;00m \u001b[39mas\u001b[39;00m \u001b[39mmpl\u001b[39;00m\n\u001b[0;32m      2\u001b[0m mpl\u001b[39m.\u001b[39m__version__\n",
      "\u001b[1;31mModuleNotFoundError\u001b[0m: No module named 'matplotlib'"
     ]
    }
   ],
   "source": [
    "import matplotlib as mpl\n",
    "mpl.__version__"
   ]
  },
  {
   "cell_type": "code",
   "execution_count": 1,
   "metadata": {},
   "outputs": [
    {
     "data": {
      "image/png": "[encoded data removed]",
      "text/plain": [
       "<Figure size 640x480 with 1 Axes>"
      ]
     },
     "metadata": {},
     "output_type": "display_data"
    }
   ],
   "source": [
    "import csv\n",
    "import matplotlib.pyplot as plt\n",
    "\n",
    "f = open('seoul.csv', encoding='cp949')\n",
    "data = csv.reader(f)\n",
    "header = next(data)\n",
    "\n",
    "jan = []\n",
    "aug = []\n",
    "\n",
    "for row in data:\n",
    "    month = row[0].split('-')[1]\n",
    "    if row[4] != '':\n",
    "        if month == '01':\n",
    "            jan.append(float(row[4]))\n",
    "        elif month == '08':\n",
    "            aug.append(float(row[4]))\n",
    "\n",
    "plt.boxplot(jan)\n",
    "plt.boxplot(aug)\n",
    "plt.show()"
   ]
  },
  {
   "cell_type": "code",
   "execution_count": null,
   "metadata": {},
   "outputs": [],
   "source": [
    "import csv\n",
    "import matplotlib.pyplot as plt\n",
    "\n",
    "f = open('seoul.csv', encoding='cp949')\n",
    "data = csv.reader(f)\n",
    "header = next(data)\n",
    "\n",
    "day = []\n",
    "for i in range(31):\n",
    "    day.append([])\n",
    "\n",
    "for row in data:\n",
    "    month = row[0].split('-')[1]\n",
    "    if row[4] != '':\n",
    "        if row[0].split('-')[1] == '01'\n",
    "            day\n",
    "            \n",
    "            \n",
    "            month == '01':\n",
    "            jan.append(float(row[4]))\n",
    "        elif month == '08':\n",
    "            aug.append(float(row[4]))\n",
    "\n",
    "plt.boxplot(jan)\n",
    "plt.boxplot(aug)\n",
    "plt.show()"
   ]
  }
 ],
 "metadata": {
  "kernelspec": {
   "display_name": "Python 3",
   "language": "python",
   "name": "python3"
  },
  "language_info": {
   "codemirror_mode": {
    "name": "ipython",
    "version": 3
   },
   "file_extension": ".py",
   "mimetype": "text/x-python",
   "name": "python",
   "nbconvert_exporter": "python",
   "pygments_lexer": "ipython3",
   "version": "3.11.4"
  },
  "orig_nbformat": 4,
  "vscode": {
   "interpreter": {
    "hash": "3b99dafb023254a2e95d9f85dc4347b8a694887ca80ce579b074e3d1a8f0d860"
   }
  }
 },
 "nbformat": 4,
 "nbformat_minor": 2
}
