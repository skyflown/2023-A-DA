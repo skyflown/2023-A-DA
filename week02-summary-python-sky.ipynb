{
 "cells": [
  {
   "cell_type": "code",
   "execution_count": 1,
   "id": "0048bc90",
   "metadata": {},
   "outputs": [],
   "source": [
    "import sys"
   ]
  },
  {
   "cell_type": "code",
   "execution_count": 2,
   "id": "0b20fbbe",
   "metadata": {},
   "outputs": [
    {
     "data": {
      "text/plain": [
       "'3.9.13 (main, Aug 25 2022, 23:51:50) [MSC v.1916 64 bit (AMD64)]'"
      ]
     },
     "execution_count": 2,
     "metadata": {},
     "output_type": "execute_result"
    }
   ],
   "source": [
    "sys.version"
   ]
  },
  {
   "cell_type": "markdown",
   "id": "eb72c70f",
   "metadata": {},
   "source": [
    "파이썬 자료형"
   ]
  },
  {
   "cell_type": "code",
   "execution_count": 3,
   "id": "a7c0bdac",
   "metadata": {},
   "outputs": [
    {
     "data": {
      "text/plain": [
       "str"
      ]
     },
     "execution_count": 3,
     "metadata": {},
     "output_type": "execute_result"
    }
   ],
   "source": [
    "type('Hello')"
   ]
  },
  {
   "cell_type": "code",
   "execution_count": 5,
   "id": "981ffbbe",
   "metadata": {},
   "outputs": [
    {
     "name": "stdout",
     "output_type": "stream",
     "text": [
      "이름을 입력하세요: 김수진\n",
      "김수진 님 안녕하세요!\n"
     ]
    }
   ],
   "source": [
    "name = input('이름을 입력하세요: ')\n",
    "print(name + ' 님 안녕하세요!')"
   ]
  },
  {
   "cell_type": "code",
   "execution_count": 6,
   "id": "b278e0ec",
   "metadata": {
    "scrolled": true
   },
   "outputs": [
    {
     "name": "stdout",
     "output_type": "stream",
     "text": [
      "출생 연도를 입력하세요:2003\n"
     ]
    },
    {
     "ename": "TypeError",
     "evalue": "unsupported operand type(s) for -: 'int' and 'str'",
     "output_type": "error",
     "traceback": [
      "\u001b[1;31m---------------------------------------------------------------------------\u001b[0m",
      "\u001b[1;31mTypeError\u001b[0m                                 Traceback (most recent call last)",
      "\u001b[1;32m~\\AppData\\Local\\Temp\\ipykernel_14008\\3645877328.py\u001b[0m in \u001b[0;36m<module>\u001b[1;34m\u001b[0m\n\u001b[0;32m      1\u001b[0m \u001b[0mbirth\u001b[0m \u001b[1;33m=\u001b[0m \u001b[0minput\u001b[0m\u001b[1;33m(\u001b[0m\u001b[1;34m'출생 연도를 입력하세요:'\u001b[0m\u001b[1;33m)\u001b[0m\u001b[1;33m\u001b[0m\u001b[1;33m\u001b[0m\u001b[0m\n\u001b[1;32m----> 2\u001b[1;33m \u001b[0mprint\u001b[0m\u001b[1;33m(\u001b[0m\u001b[1;36m2022\u001b[0m \u001b[1;33m-\u001b[0m \u001b[0mbirth\u001b[0m\u001b[1;33m,\u001b[0m \u001b[1;34m'세이시군요!'\u001b[0m\u001b[1;33m)\u001b[0m\u001b[1;33m\u001b[0m\u001b[1;33m\u001b[0m\u001b[0m\n\u001b[0m",
      "\u001b[1;31mTypeError\u001b[0m: unsupported operand type(s) for -: 'int' and 'str'"
     ]
    }
   ],
   "source": [
    "birth = input('출생 연도를 입력하세요:')\n",
    "print(2022 - birth, '세이시군요!')"
   ]
  },
  {
   "cell_type": "code",
   "execution_count": 7,
   "id": "0e6101e2",
   "metadata": {},
   "outputs": [
    {
     "name": "stdout",
     "output_type": "stream",
     "text": [
      "출생 연도를 입력하세요:2003\n",
      "19 세이시군요!\n"
     ]
    }
   ],
   "source": [
    "birth = input('출생 연도를 입력하세요:')\n",
    "print(2022 - int(birth), '세이시군요!')"
   ]
  },
  {
   "cell_type": "markdown",
   "id": "10e9895a",
   "metadata": {},
   "source": [
    "## 내장 함수"
   ]
  },
  {
   "cell_type": "code",
   "execution_count": 8,
   "id": "aeeeb80a",
   "metadata": {},
   "outputs": [
    {
     "data": {
      "text/plain": [
       "3"
      ]
     },
     "execution_count": 8,
     "metadata": {},
     "output_type": "execute_result"
    }
   ],
   "source": [
    "abs(-3)"
   ]
  },
  {
   "cell_type": "code",
   "execution_count": 9,
   "id": "f866d93a",
   "metadata": {},
   "outputs": [
    {
     "data": {
      "text/plain": [
       "True"
      ]
     },
     "execution_count": 9,
     "metadata": {},
     "output_type": "execute_result"
    }
   ],
   "source": [
    "bool('py')"
   ]
  },
  {
   "cell_type": "markdown",
   "id": "ed6e9e9f",
   "metadata": {},
   "source": [
    "## 반복문"
   ]
  },
  {
   "cell_type": "code",
   "execution_count": 10,
   "id": "5e655c8e",
   "metadata": {},
   "outputs": [
    {
     "name": "stdout",
     "output_type": "stream",
     "text": [
      "0\n",
      "2\n",
      "4\n",
      "6\n",
      "8\n"
     ]
    }
   ],
   "source": [
    "for i in range(5):\n",
    "    print(i * 2)"
   ]
  },
  {
   "cell_type": "code",
   "execution_count": 11,
   "id": "873d3d8e",
   "metadata": {},
   "outputs": [
    {
     "name": "stdout",
     "output_type": "stream",
     "text": [
      "1 2 3 4 5 6 7 8 9 10 "
     ]
    }
   ],
   "source": [
    "for i in range(1, 11):\n",
    "    print(i, end=' ')"
   ]
  },
  {
   "cell_type": "code",
   "execution_count": 18,
   "id": "560aaec0",
   "metadata": {},
   "outputs": [
    {
     "name": "stdout",
     "output_type": "stream",
     "text": [
      "1\n",
      "2\n",
      "3\n",
      "4\n",
      "5\n",
      "6\n",
      "7\n",
      "8\n",
      "9\n",
      "10\n"
     ]
    }
   ],
   "source": [
    "for i in range(1, 11):\n",
    "    print(i)"
   ]
  },
  {
   "cell_type": "code",
   "execution_count": 19,
   "id": "c395fb2b",
   "metadata": {},
   "outputs": [
    {
     "name": "stdout",
     "output_type": "stream",
     "text": [
      "10\n",
      "20\n",
      "30\n"
     ]
    }
   ],
   "source": [
    "for i in {10:'십', 20:'이십', 30:'삼십'}:\n",
    "    print(i) "
   ]
  },
  {
   "cell_type": "code",
   "execution_count": 22,
   "id": "9f4d781a",
   "metadata": {},
   "outputs": [
    {
     "ename": "SyntaxError",
     "evalue": "invalid syntax (1398408494.py, line 2)",
     "output_type": "error",
     "traceback": [
      "\u001b[1;36m  File \u001b[1;32m\"C:\\Users\\102\\AppData\\Local\\Temp\\ipykernel_14008\\1398408494.py\"\u001b[1;36m, line \u001b[1;32m2\u001b[0m\n\u001b[1;33m    for i in data[]\u001b[0m\n\u001b[1;37m                  ^\u001b[0m\n\u001b[1;31mSyntaxError\u001b[0m\u001b[1;31m:\u001b[0m invalid syntax\n"
     ]
    }
   ],
   "source": [
    "data = {10:'십', 20:'이십', 30:'삼십'}\n",
    "for i in data[]\n",
    "print(data[i])"
   ]
  },
  {
   "cell_type": "code",
   "execution_count": 23,
   "id": "874dc408",
   "metadata": {},
   "outputs": [
    {
     "data": {
      "text/plain": [
       "['월', '화', '수', '목', '금', '토', '일']"
      ]
     },
     "execution_count": 23,
     "metadata": {},
     "output_type": "execute_result"
    }
   ],
   "source": [
    "day = list('월화수목금토일')\n",
    "day"
   ]
  },
  {
   "cell_type": "code",
   "execution_count": 24,
   "id": "de96cbf2",
   "metadata": {},
   "outputs": [
    {
     "data": {
      "text/plain": [
       "'금'"
      ]
     },
     "execution_count": 24,
     "metadata": {},
     "output_type": "execute_result"
    }
   ],
   "source": [
    "day[-3]"
   ]
  },
  {
   "cell_type": "code",
   "execution_count": 25,
   "id": "4f4adcb9",
   "metadata": {},
   "outputs": [
    {
     "ename": "NameError",
     "evalue": "name 'dat' is not defined",
     "output_type": "error",
     "traceback": [
      "\u001b[1;31m---------------------------------------------------------------------------\u001b[0m",
      "\u001b[1;31mNameError\u001b[0m                                 Traceback (most recent call last)",
      "\u001b[1;32m~\\AppData\\Local\\Temp\\ipykernel_14008\\3333206223.py\u001b[0m in \u001b[0;36m<module>\u001b[1;34m\u001b[0m\n\u001b[1;32m----> 1\u001b[1;33m \u001b[0mdat\u001b[0m\u001b[1;33m[\u001b[0m\u001b[1;36m1\u001b[0m\u001b[1;33m:\u001b[0m\u001b[1;36m3\u001b[0m\u001b[1;33m]\u001b[0m\u001b[1;33m\u001b[0m\u001b[1;33m\u001b[0m\u001b[0m\n\u001b[0m",
      "\u001b[1;31mNameError\u001b[0m: name 'dat' is not defined"
     ]
    }
   ],
   "source": [
    "dat[1:3]"
   ]
  },
  {
   "cell_type": "code",
   "execution_count": 26,
   "id": "c168c1bc",
   "metadata": {},
   "outputs": [
    {
     "data": {
      "text/plain": [
       "['화', '수']"
      ]
     },
     "execution_count": 26,
     "metadata": {},
     "output_type": "execute_result"
    }
   ],
   "source": [
    "day[1:3]"
   ]
  },
  {
   "cell_type": "code",
   "execution_count": 28,
   "id": "3478b8c8",
   "metadata": {},
   "outputs": [
    {
     "name": "stdout",
     "output_type": "stream",
     "text": [
      "4\n"
     ]
    }
   ],
   "source": [
    "import random\n",
    "\n",
    "dice = random.randint(1, 6)\n",
    "print(dice)"
   ]
  },
  {
   "cell_type": "code",
   "execution_count": 29,
   "id": "121c0e42",
   "metadata": {},
   "outputs": [
    {
     "name": "stdout",
     "output_type": "stream",
     "text": [
      "1.4142135623730951\n",
      "2.0\n"
     ]
    }
   ],
   "source": [
    "import math\n",
    "\n",
    "print(math.sqrt(2))\n",
    "print(math.sqrt(4))"
   ]
  },
  {
   "cell_type": "code",
   "execution_count": 30,
   "id": "b374d8b0",
   "metadata": {},
   "outputs": [
    {
     "name": "stdout",
     "output_type": "stream",
     "text": [
      "0\n",
      "1\n",
      "2\n",
      "3\n",
      "4\n",
      "5\n",
      "6\n",
      "7\n",
      "8\n",
      "9\n"
     ]
    }
   ],
   "source": [
    "for num in range(10):\n",
    "    print(num)"
   ]
  },
  {
   "cell_type": "code",
   "execution_count": 31,
   "id": "aab838b8",
   "metadata": {},
   "outputs": [
    {
     "name": "stdout",
     "output_type": "stream",
     "text": [
      "80\n",
      "70\n",
      "90\n",
      "100\n"
     ]
    }
   ],
   "source": [
    "test_score = [80, 70, 90, 100]\n",
    "for score in test_score:\n",
    "    print(score)"
   ]
  },
  {
   "cell_type": "code",
   "execution_count": 32,
   "id": "b50329de",
   "metadata": {},
   "outputs": [
    {
     "name": "stdout",
     "output_type": "stream",
     "text": [
      "국어\n",
      "영어\n",
      "수학\n",
      "과학\n"
     ]
    }
   ],
   "source": [
    "test_name = ['국어', '영어', '수학', '과학']\n",
    "for name in test_name:\n",
    "    print(name)"
   ]
  },
  {
   "cell_type": "code",
   "execution_count": 33,
   "id": "cb679acc",
   "metadata": {},
   "outputs": [
    {
     "name": "stdout",
     "output_type": "stream",
     "text": [
      "안녕하세요!\n"
     ]
    }
   ],
   "source": [
    "if(10>0):\n",
    "    print('안녕하세요!')"
   ]
  },
  {
   "cell_type": "code",
   "execution_count": 34,
   "id": "ce2acf3b",
   "metadata": {},
   "outputs": [
    {
     "name": "stdout",
     "output_type": "stream",
     "text": [
      "패스워드를 입력하세요:12345\n",
      "로그인 되었습니다.\n"
     ]
    }
   ],
   "source": [
    "password = input('패스워드를 입력하세요:')\n",
    "if (int(password)== 12345):\n",
    "    print('로그인 되었습니다.')\n",
    "elif (int(password) == 11111):\n",
    "    print('관리자 권한입니다.')\n",
    "else:\n",
    "    print('로그인에 실패하였습니다.')"
   ]
  },
  {
   "cell_type": "code",
   "execution_count": 35,
   "id": "c6224385",
   "metadata": {},
   "outputs": [
    {
     "name": "stdout",
     "output_type": "stream",
     "text": [
      "<class 'list'>\n"
     ]
    }
   ],
   "source": [
    "arr1 = [1, 2, 3, 4, 5]\n",
    "print(type(arr1))"
   ]
  },
  {
   "cell_type": "code",
   "execution_count": 36,
   "id": "a448f20a",
   "metadata": {},
   "outputs": [
    {
     "name": "stdout",
     "output_type": "stream",
     "text": [
      "<class 'list'>\n"
     ]
    }
   ],
   "source": [
    "arr2 = ['월', '화', '수', '목', '금', '토']\n",
    "print(type(arr2))"
   ]
  },
  {
   "cell_type": "code",
   "execution_count": 37,
   "id": "f1f292b0",
   "metadata": {},
   "outputs": [
    {
     "name": "stdout",
     "output_type": "stream",
     "text": [
      "<class 'list'>\n"
     ]
    }
   ],
   "source": [
    "arr3 = [1, 2, 3, 4, 5, '월', '화', '수', '목', '금', '토']\n",
    "print(type(arr3))"
   ]
  },
  {
   "cell_type": "code",
   "execution_count": 38,
   "id": "fc8b6fc2",
   "metadata": {},
   "outputs": [
    {
     "name": "stdout",
     "output_type": "stream",
     "text": [
      "['월', '화', '수', '목', '금', '토']\n"
     ]
    }
   ],
   "source": [
    "arr2 = ['월', '화', '수', '목', '금', '토']\n",
    "print(arr2)"
   ]
  },
  {
   "cell_type": "code",
   "execution_count": 41,
   "id": "61349761",
   "metadata": {},
   "outputs": [
    {
     "name": "stdout",
     "output_type": "stream",
     "text": [
      "토\n",
      "금\n",
      "목\n",
      "수\n",
      "화\n",
      "월\n"
     ]
    }
   ],
   "source": [
    "arr2 = ['월', '화', '수', '목', '금', '토']\n",
    "print(arr2[-1])\n",
    "print(arr2[-2])\n",
    "print(arr2[-3])\n",
    "print(arr2[-4])\n",
    "print(arr2[-5])\n",
    "print(arr2[-6])"
   ]
  },
  {
   "cell_type": "code",
   "execution_count": 42,
   "id": "01159098",
   "metadata": {},
   "outputs": [
    {
     "name": "stdout",
     "output_type": "stream",
     "text": [
      "['월', '화']\n",
      "['화', '수', '목']\n",
      "['화', '수', '목', '금', '토']\n",
      "['월', '화', '수']\n",
      "['월', '화', '수', '목', '금', '토']\n"
     ]
    }
   ],
   "source": [
    "arr2 = ['월', '화', '수', '목', '금', '토']\n",
    "print(arr2[0:2])\n",
    "print(arr2[1:4])\n",
    "print(arr2[1:])\n",
    "print(arr2[:3])\n",
    "print(arr2[:])"
   ]
  },
  {
   "cell_type": "code",
   "execution_count": 44,
   "id": "b8d0ef60",
   "metadata": {},
   "outputs": [
    {
     "name": "stdout",
     "output_type": "stream",
     "text": [
      "[1, 2, 3, 4, 5]\n",
      "5\n",
      "[1, 2, 3, 4, 5, 6]\n",
      "6\n"
     ]
    }
   ],
   "source": [
    "arr1 = [1, 2, 3, 4, 5]\n",
    "print(arr1)\n",
    "print(len(arr1))\n",
    "arr1.append(6)\n",
    "print(arr1)\n",
    "print(len(arr1))"
   ]
  },
  {
   "cell_type": "code",
   "execution_count": 45,
   "id": "182940f0",
   "metadata": {},
   "outputs": [
    {
     "name": "stdout",
     "output_type": "stream",
     "text": [
      "['월', '화', '수', '목', '금', '토']\n",
      "6\n",
      "['월', '화', '수', '목', '금', '토', '일']\n",
      "7\n"
     ]
    }
   ],
   "source": [
    "arr2 = ['월', '화', '수', '목', '금', '토']\n",
    "print(arr2)\n",
    "print(len(arr2))\n",
    "arr2.append('일')\n",
    "print(arr2)\n",
    "print(len(arr2))"
   ]
  },
  {
   "cell_type": "code",
   "execution_count": null,
   "id": "620ff171",
   "metadata": {},
   "outputs": [],
   "source": []
  }
 ],
 "metadata": {
  "kernelspec": {
   "display_name": "Python 3 (ipykernel)",
   "language": "python",
   "name": "python3"
  },
  "language_info": {
   "codemirror_mode": {
    "name": "ipython",
    "version": 3
   },
   "file_extension": ".py",
   "mimetype": "text/x-python",
   "name": "python",
   "nbconvert_exporter": "python",
   "pygments_lexer": "ipython3",
   "version": "3.9.13"
  }
 },
 "nbformat": 4,
 "nbformat_minor": 5
}
